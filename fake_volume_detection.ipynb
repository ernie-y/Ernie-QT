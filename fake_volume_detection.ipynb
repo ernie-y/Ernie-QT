{
 "cells": [
  {
   "cell_type": "code",
   "execution_count": 1,
   "metadata": {},
   "outputs": [],
   "source": [
    "import requests\n",
    "import pandas as pd"
   ]
  },
  {
   "cell_type": "markdown",
   "metadata": {},
   "source": [
    "#### [Gate IO API](https://www.gate.io/docs/developers/apiv4/en/#spot)"
   ]
  },
  {
   "cell_type": "code",
   "execution_count": 2,
   "metadata": {},
   "outputs": [],
   "source": [
    "token = 'DDIM'"
   ]
  },
  {
   "cell_type": "code",
   "execution_count": 3,
   "metadata": {},
   "outputs": [],
   "source": [
    "host = \"https://api.gateio.ws\"\n",
    "prefix = \"/api/v4\"\n",
    "headers = {'Accept': 'application/json', 'Content-Type': 'application/json'}"
   ]
  },
  {
   "cell_type": "markdown",
   "metadata": {},
   "source": [
    "#### Get [historical market trades](https://www.gate.io/docs/developers/apiv4/en/#retrieve-market-trades)"
   ]
  },
  {
   "cell_type": "code",
   "execution_count": 4,
   "metadata": {},
   "outputs": [],
   "source": [
    "url = '/spot/trades'\n",
    "query_param = f'currency_pair={token}_USDT&limit=1000'\n",
    "\n",
    "r = requests.request('GET', host + prefix + url + \"?\" + query_param, headers=headers)\n",
    "trades_df = pd.DataFrame(r.json())"
   ]
  },
  {
   "cell_type": "code",
   "execution_count": 5,
   "metadata": {},
   "outputs": [],
   "source": [
    "trades_convert = {\n",
    "    'id': int,\n",
    "    'create_time': int,\n",
    "    'amount': float,\n",
    "    'price': float,\n",
    "    'sequence_id': int,\n",
    "}\n",
    "\n",
    "trades_df = trades_df.astype(trades_convert)"
   ]
  },
  {
   "cell_type": "code",
   "execution_count": 6,
   "metadata": {},
   "outputs": [],
   "source": [
    "trades_df['dt'] = trades_df['create_time'].apply(lambda x: pd.to_datetime(x, unit='s'))"
   ]
  },
  {
   "cell_type": "code",
   "execution_count": 7,
   "metadata": {},
   "outputs": [],
   "source": [
    "trades_df.set_index('dt', inplace=True)"
   ]
  },
  {
   "cell_type": "code",
   "execution_count": 8,
   "metadata": {},
   "outputs": [],
   "source": [
    "trades_df.sort_index(inplace=True)"
   ]
  },
  {
   "cell_type": "code",
   "execution_count": 9,
   "metadata": {},
   "outputs": [],
   "source": [
    "trades_df['notional'] = trades_df['amount'] * trades_df['price']"
   ]
  },
  {
   "cell_type": "code",
   "execution_count": 10,
   "metadata": {},
   "outputs": [
    {
     "data": {
      "text/html": [
       "<div>\n",
       "<style scoped>\n",
       "    .dataframe tbody tr th:only-of-type {\n",
       "        vertical-align: middle;\n",
       "    }\n",
       "\n",
       "    .dataframe tbody tr th {\n",
       "        vertical-align: top;\n",
       "    }\n",
       "\n",
       "    .dataframe thead th {\n",
       "        text-align: right;\n",
       "    }\n",
       "</style>\n",
       "<table border=\"1\" class=\"dataframe\">\n",
       "  <thead>\n",
       "    <tr style=\"text-align: right;\">\n",
       "      <th></th>\n",
       "      <th>id</th>\n",
       "      <th>create_time</th>\n",
       "      <th>create_time_ms</th>\n",
       "      <th>currency_pair</th>\n",
       "      <th>side</th>\n",
       "      <th>amount</th>\n",
       "      <th>price</th>\n",
       "      <th>sequence_id</th>\n",
       "      <th>notional</th>\n",
       "    </tr>\n",
       "    <tr>\n",
       "      <th>dt</th>\n",
       "      <th></th>\n",
       "      <th></th>\n",
       "      <th></th>\n",
       "      <th></th>\n",
       "      <th></th>\n",
       "      <th></th>\n",
       "      <th></th>\n",
       "      <th></th>\n",
       "      <th></th>\n",
       "    </tr>\n",
       "  </thead>\n",
       "  <tbody>\n",
       "    <tr>\n",
       "      <th>2023-11-25 09:02:58</th>\n",
       "      <td>6731436479</td>\n",
       "      <td>1700902978</td>\n",
       "      <td>1700902978164.375000</td>\n",
       "      <td>DDIM_USDT</td>\n",
       "      <td>sell</td>\n",
       "      <td>8.903000</td>\n",
       "      <td>2.010</td>\n",
       "      <td>151787</td>\n",
       "      <td>17.895030</td>\n",
       "    </tr>\n",
       "    <tr>\n",
       "      <th>2023-11-25 09:03:21</th>\n",
       "      <td>6731439146</td>\n",
       "      <td>1700903001</td>\n",
       "      <td>1700903001161.722000</td>\n",
       "      <td>DDIM_USDT</td>\n",
       "      <td>sell</td>\n",
       "      <td>3.683219</td>\n",
       "      <td>2.021</td>\n",
       "      <td>151788</td>\n",
       "      <td>7.443786</td>\n",
       "    </tr>\n",
       "    <tr>\n",
       "      <th>2023-11-25 09:03:38</th>\n",
       "      <td>6731441160</td>\n",
       "      <td>1700903018</td>\n",
       "      <td>1700903018109.236000</td>\n",
       "      <td>DDIM_USDT</td>\n",
       "      <td>buy</td>\n",
       "      <td>1.619000</td>\n",
       "      <td>2.020</td>\n",
       "      <td>151789</td>\n",
       "      <td>3.270380</td>\n",
       "    </tr>\n",
       "    <tr>\n",
       "      <th>2023-11-25 09:05:11</th>\n",
       "      <td>6731450051</td>\n",
       "      <td>1700903111</td>\n",
       "      <td>1700903111147.700000</td>\n",
       "      <td>DDIM_USDT</td>\n",
       "      <td>buy</td>\n",
       "      <td>2.380115</td>\n",
       "      <td>2.023</td>\n",
       "      <td>151790</td>\n",
       "      <td>4.814974</td>\n",
       "    </tr>\n",
       "    <tr>\n",
       "      <th>2023-11-25 09:05:42</th>\n",
       "      <td>6731453439</td>\n",
       "      <td>1700903142</td>\n",
       "      <td>1700903142120.583000</td>\n",
       "      <td>DDIM_USDT</td>\n",
       "      <td>sell</td>\n",
       "      <td>6.745000</td>\n",
       "      <td>2.020</td>\n",
       "      <td>151791</td>\n",
       "      <td>13.624900</td>\n",
       "    </tr>\n",
       "  </tbody>\n",
       "</table>\n",
       "</div>"
      ],
      "text/plain": [
       "                             id  create_time        create_time_ms  \\\n",
       "dt                                                                   \n",
       "2023-11-25 09:02:58  6731436479   1700902978  1700902978164.375000   \n",
       "2023-11-25 09:03:21  6731439146   1700903001  1700903001161.722000   \n",
       "2023-11-25 09:03:38  6731441160   1700903018  1700903018109.236000   \n",
       "2023-11-25 09:05:11  6731450051   1700903111  1700903111147.700000   \n",
       "2023-11-25 09:05:42  6731453439   1700903142  1700903142120.583000   \n",
       "\n",
       "                    currency_pair  side    amount  price  sequence_id  \\\n",
       "dt                                                                      \n",
       "2023-11-25 09:02:58     DDIM_USDT  sell  8.903000  2.010       151787   \n",
       "2023-11-25 09:03:21     DDIM_USDT  sell  3.683219  2.021       151788   \n",
       "2023-11-25 09:03:38     DDIM_USDT   buy  1.619000  2.020       151789   \n",
       "2023-11-25 09:05:11     DDIM_USDT   buy  2.380115  2.023       151790   \n",
       "2023-11-25 09:05:42     DDIM_USDT  sell  6.745000  2.020       151791   \n",
       "\n",
       "                      notional  \n",
       "dt                              \n",
       "2023-11-25 09:02:58  17.895030  \n",
       "2023-11-25 09:03:21   7.443786  \n",
       "2023-11-25 09:03:38   3.270380  \n",
       "2023-11-25 09:05:11   4.814974  \n",
       "2023-11-25 09:05:42  13.624900  "
      ]
     },
     "execution_count": 10,
     "metadata": {},
     "output_type": "execute_result"
    }
   ],
   "source": [
    "trades_df.tail()"
   ]
  },
  {
   "cell_type": "markdown",
   "metadata": {},
   "source": [
    "#### Get [orderbook snapshot](https://www.gate.io/docs/developers/apiv4/en/#retrieve-order-book)"
   ]
  },
  {
   "cell_type": "code",
   "execution_count": 11,
   "metadata": {},
   "outputs": [],
   "source": [
    "url = '/spot/order_book'\n",
    "query_param = f'currency_pair={token}_USDT'\n",
    "\n",
    "r = requests.request('GET', host + prefix + url + \"?\" + query_param, headers=headers)\n",
    "df = pd.DataFrame(r.json())"
   ]
  },
  {
   "cell_type": "code",
   "execution_count": 12,
   "metadata": {},
   "outputs": [
    {
     "data": {
      "text/html": [
       "<div>\n",
       "<style scoped>\n",
       "    .dataframe tbody tr th:only-of-type {\n",
       "        vertical-align: middle;\n",
       "    }\n",
       "\n",
       "    .dataframe tbody tr th {\n",
       "        vertical-align: top;\n",
       "    }\n",
       "\n",
       "    .dataframe thead th {\n",
       "        text-align: right;\n",
       "    }\n",
       "</style>\n",
       "<table border=\"1\" class=\"dataframe\">\n",
       "  <thead>\n",
       "    <tr style=\"text-align: right;\">\n",
       "      <th></th>\n",
       "      <th>current</th>\n",
       "      <th>update</th>\n",
       "      <th>asks</th>\n",
       "      <th>bids</th>\n",
       "    </tr>\n",
       "  </thead>\n",
       "  <tbody>\n",
       "    <tr>\n",
       "      <th>0</th>\n",
       "      <td>1700903157102</td>\n",
       "      <td>1700903148678</td>\n",
       "      <td>[2.0407, 3.431]</td>\n",
       "      <td>[1.9976, 3.503]</td>\n",
       "    </tr>\n",
       "    <tr>\n",
       "      <th>1</th>\n",
       "      <td>1700903157102</td>\n",
       "      <td>1700903148678</td>\n",
       "      <td>[2.047, 2.488]</td>\n",
       "      <td>[1.985, 47.743]</td>\n",
       "    </tr>\n",
       "    <tr>\n",
       "      <th>2</th>\n",
       "      <td>1700903157102</td>\n",
       "      <td>1700903148678</td>\n",
       "      <td>[2.048, 43.264]</td>\n",
       "      <td>[1.984, 36.524]</td>\n",
       "    </tr>\n",
       "    <tr>\n",
       "      <th>3</th>\n",
       "      <td>1700903157102</td>\n",
       "      <td>1700903148678</td>\n",
       "      <td>[2.178, 7.445]</td>\n",
       "      <td>[1.982, 3.2201]</td>\n",
       "    </tr>\n",
       "    <tr>\n",
       "      <th>4</th>\n",
       "      <td>1700903157102</td>\n",
       "      <td>1700903148678</td>\n",
       "      <td>[2.179, 2.512]</td>\n",
       "      <td>[1.98, 13.97]</td>\n",
       "    </tr>\n",
       "  </tbody>\n",
       "</table>\n",
       "</div>"
      ],
      "text/plain": [
       "         current         update             asks             bids\n",
       "0  1700903157102  1700903148678  [2.0407, 3.431]  [1.9976, 3.503]\n",
       "1  1700903157102  1700903148678   [2.047, 2.488]  [1.985, 47.743]\n",
       "2  1700903157102  1700903148678  [2.048, 43.264]  [1.984, 36.524]\n",
       "3  1700903157102  1700903148678   [2.178, 7.445]  [1.982, 3.2201]\n",
       "4  1700903157102  1700903148678   [2.179, 2.512]    [1.98, 13.97]"
      ]
     },
     "execution_count": 12,
     "metadata": {},
     "output_type": "execute_result"
    }
   ],
   "source": [
    "df.head()"
   ]
  },
  {
   "cell_type": "markdown",
   "metadata": {},
   "source": [
    "### How to detect Fake Volume"
   ]
  },
  {
   "cell_type": "markdown",
   "metadata": {},
   "source": [
    "#### Method 1: Connect to their Websocket (Both [Orderbook](https://www.gate.io/docs/developers/apiv4/ws/en/#order-book-channel) & [Public Trades](https://www.gate.io/docs/developers/apiv4/ws/en/#public-trades-channel) Channel)\n",
    "\n",
    "- Will skip here since it's complicated to combine 2 threads & compare together here."
   ]
  },
  {
   "cell_type": "markdown",
   "metadata": {},
   "source": [
    "#### Method 2: Frequently Call Orderbook API (let's say every 5 seconds) & record the snapshots, compare with the trades history.\n",
    "\n",
    "- If you see both bids & asks didn't change (can focus on best bid & best ask first), but trades happened. It is usually a fake volume printed."
   ]
  },
  {
   "cell_type": "code",
   "execution_count": 13,
   "metadata": {},
   "outputs": [],
   "source": [
    "def fetch_orderbook_snapshot() -> pd.DataFrame:\n",
    "    url = '/spot/order_book'\n",
    "    query_param = f'currency_pair={token}_USDT'\n",
    "\n",
    "    r = requests.request('GET', host + prefix + url + \"?\" + query_param, headers=headers)\n",
    "    df = pd.DataFrame(r.json())\n",
    "\n",
    "    return df"
   ]
  },
  {
   "cell_type": "code",
   "execution_count": null,
   "metadata": {},
   "outputs": [],
   "source": [
    "# Record orderbook snapshot every 5 seconds.\n",
    "import time\n",
    "\n",
    "for _ in range(120):\n",
    "    ob_snapshot_df = fetch_orderbook_snapshot()\n",
    "    last_update_ts = ob_snapshot_df['update'].unique()[0]\n",
    "    ob_snapshot_df.to_csv(f'./{token}_ob_snapshot_{last_update_ts}.csv')\n",
    "    time.sleep(5)\n"
   ]
  },
  {
   "cell_type": "code",
   "execution_count": 14,
   "metadata": {},
   "outputs": [],
   "source": [
    "# After recording, you can compare the best bid & best ask & see if from the trades API, they have transctions, left by readers."
   ]
  },
  {
   "cell_type": "code",
   "execution_count": null,
   "metadata": {},
   "outputs": [],
   "source": []
  }
 ],
 "metadata": {
  "kernelspec": {
   "display_name": ".venv",
   "language": "python",
   "name": "python3"
  },
  "language_info": {
   "codemirror_mode": {
    "name": "ipython",
    "version": 3
   },
   "file_extension": ".py",
   "mimetype": "text/x-python",
   "name": "python",
   "nbconvert_exporter": "python",
   "pygments_lexer": "ipython3",
   "version": "3.9.7"
  }
 },
 "nbformat": 4,
 "nbformat_minor": 2
}
