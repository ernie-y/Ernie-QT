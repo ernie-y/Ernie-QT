{
 "cells": [
  {
   "cell_type": "code",
   "execution_count": 1,
   "metadata": {},
   "outputs": [],
   "source": [
    "import pandas as pd\n",
    "import numpy as np\n",
    "import matplotlib.pyplot as plt\n",
    "import seaborn as sns"
   ]
  },
  {
   "cell_type": "code",
   "execution_count": 2,
   "metadata": {},
   "outputs": [],
   "source": [
    "btc = pd.read_csv('./stats_data/BINANCE_BTCUSDT, 1D.csv')\n",
    "wld = pd.read_csv('./stats_data/BINANCE_WLDUSDT, 1D.csv')\n",
    "tao = pd.read_csv('./stats_data/BITGET_TAOUSDT, 1D.csv')"
   ]
  },
  {
   "cell_type": "code",
   "execution_count": 3,
   "metadata": {},
   "outputs": [],
   "source": [
    "for df in [btc, wld, tao]:\n",
    "    df['time'] = pd.to_datetime(df['time'], unit='s')\n",
    "    df.set_index('time', inplace=True)"
   ]
  },
  {
   "cell_type": "code",
   "execution_count": 4,
   "metadata": {},
   "outputs": [
    {
     "data": {
      "text/html": [
       "<div>\n",
       "<style scoped>\n",
       "    .dataframe tbody tr th:only-of-type {\n",
       "        vertical-align: middle;\n",
       "    }\n",
       "\n",
       "    .dataframe tbody tr th {\n",
       "        vertical-align: top;\n",
       "    }\n",
       "\n",
       "    .dataframe thead th {\n",
       "        text-align: right;\n",
       "    }\n",
       "</style>\n",
       "<table border=\"1\" class=\"dataframe\">\n",
       "  <thead>\n",
       "    <tr style=\"text-align: right;\">\n",
       "      <th></th>\n",
       "      <th>open</th>\n",
       "      <th>high</th>\n",
       "      <th>low</th>\n",
       "      <th>close</th>\n",
       "      <th>TWAP</th>\n",
       "      <th>VWAP</th>\n",
       "      <th>Plot</th>\n",
       "    </tr>\n",
       "    <tr>\n",
       "      <th>time</th>\n",
       "      <th></th>\n",
       "      <th></th>\n",
       "      <th></th>\n",
       "      <th></th>\n",
       "      <th></th>\n",
       "      <th></th>\n",
       "      <th></th>\n",
       "    </tr>\n",
       "  </thead>\n",
       "  <tbody>\n",
       "    <tr>\n",
       "      <th>2023-03-30</th>\n",
       "      <td>60.00</td>\n",
       "      <td>66.08</td>\n",
       "      <td>60.00</td>\n",
       "      <td>65.94</td>\n",
       "      <td>64.006667</td>\n",
       "      <td>64.006667</td>\n",
       "      <td>NaN</td>\n",
       "    </tr>\n",
       "    <tr>\n",
       "      <th>2023-03-31</th>\n",
       "      <td>65.94</td>\n",
       "      <td>69.57</td>\n",
       "      <td>58.66</td>\n",
       "      <td>63.49</td>\n",
       "      <td>63.906667</td>\n",
       "      <td>63.906667</td>\n",
       "      <td>NaN</td>\n",
       "    </tr>\n",
       "    <tr>\n",
       "      <th>2023-04-01</th>\n",
       "      <td>63.49</td>\n",
       "      <td>66.08</td>\n",
       "      <td>56.80</td>\n",
       "      <td>60.86</td>\n",
       "      <td>61.246667</td>\n",
       "      <td>61.246667</td>\n",
       "      <td>NaN</td>\n",
       "    </tr>\n",
       "    <tr>\n",
       "      <th>2023-04-02</th>\n",
       "      <td>60.86</td>\n",
       "      <td>64.58</td>\n",
       "      <td>55.81</td>\n",
       "      <td>59.69</td>\n",
       "      <td>60.026667</td>\n",
       "      <td>60.026667</td>\n",
       "      <td>NaN</td>\n",
       "    </tr>\n",
       "    <tr>\n",
       "      <th>2023-04-03</th>\n",
       "      <td>59.69</td>\n",
       "      <td>63.17</td>\n",
       "      <td>57.00</td>\n",
       "      <td>59.77</td>\n",
       "      <td>59.980000</td>\n",
       "      <td>59.980000</td>\n",
       "      <td>NaN</td>\n",
       "    </tr>\n",
       "    <tr>\n",
       "      <th>...</th>\n",
       "      <td>...</td>\n",
       "      <td>...</td>\n",
       "      <td>...</td>\n",
       "      <td>...</td>\n",
       "      <td>...</td>\n",
       "      <td>...</td>\n",
       "      <td>...</td>\n",
       "    </tr>\n",
       "    <tr>\n",
       "      <th>2024-02-21</th>\n",
       "      <td>623.62</td>\n",
       "      <td>635.27</td>\n",
       "      <td>559.00</td>\n",
       "      <td>629.68</td>\n",
       "      <td>607.983333</td>\n",
       "      <td>607.983333</td>\n",
       "      <td>3.795505</td>\n",
       "    </tr>\n",
       "    <tr>\n",
       "      <th>2024-02-22</th>\n",
       "      <td>629.68</td>\n",
       "      <td>637.42</td>\n",
       "      <td>584.91</td>\n",
       "      <td>585.15</td>\n",
       "      <td>602.493333</td>\n",
       "      <td>602.493333</td>\n",
       "      <td>3.762865</td>\n",
       "    </tr>\n",
       "    <tr>\n",
       "      <th>2024-02-23</th>\n",
       "      <td>585.15</td>\n",
       "      <td>611.65</td>\n",
       "      <td>572.21</td>\n",
       "      <td>582.00</td>\n",
       "      <td>588.620000</td>\n",
       "      <td>588.620000</td>\n",
       "      <td>3.470444</td>\n",
       "    </tr>\n",
       "    <tr>\n",
       "      <th>2024-02-24</th>\n",
       "      <td>582.00</td>\n",
       "      <td>601.94</td>\n",
       "      <td>560.00</td>\n",
       "      <td>561.09</td>\n",
       "      <td>574.343333</td>\n",
       "      <td>574.343333</td>\n",
       "      <td>3.252651</td>\n",
       "    </tr>\n",
       "    <tr>\n",
       "      <th>2024-02-25</th>\n",
       "      <td>561.09</td>\n",
       "      <td>589.21</td>\n",
       "      <td>551.00</td>\n",
       "      <td>565.27</td>\n",
       "      <td>568.493333</td>\n",
       "      <td>568.493333</td>\n",
       "      <td>3.061555</td>\n",
       "    </tr>\n",
       "  </tbody>\n",
       "</table>\n",
       "<p>333 rows × 7 columns</p>\n",
       "</div>"
      ],
      "text/plain": [
       "              open    high     low   close        TWAP        VWAP      Plot\n",
       "time                                                                        \n",
       "2023-03-30   60.00   66.08   60.00   65.94   64.006667   64.006667       NaN\n",
       "2023-03-31   65.94   69.57   58.66   63.49   63.906667   63.906667       NaN\n",
       "2023-04-01   63.49   66.08   56.80   60.86   61.246667   61.246667       NaN\n",
       "2023-04-02   60.86   64.58   55.81   59.69   60.026667   60.026667       NaN\n",
       "2023-04-03   59.69   63.17   57.00   59.77   59.980000   59.980000       NaN\n",
       "...            ...     ...     ...     ...         ...         ...       ...\n",
       "2024-02-21  623.62  635.27  559.00  629.68  607.983333  607.983333  3.795505\n",
       "2024-02-22  629.68  637.42  584.91  585.15  602.493333  602.493333  3.762865\n",
       "2024-02-23  585.15  611.65  572.21  582.00  588.620000  588.620000  3.470444\n",
       "2024-02-24  582.00  601.94  560.00  561.09  574.343333  574.343333  3.252651\n",
       "2024-02-25  561.09  589.21  551.00  565.27  568.493333  568.493333  3.061555\n",
       "\n",
       "[333 rows x 7 columns]"
      ]
     },
     "execution_count": 4,
     "metadata": {},
     "output_type": "execute_result"
    }
   ],
   "source": [
    "tao"
   ]
  },
  {
   "cell_type": "code",
   "execution_count": 5,
   "metadata": {},
   "outputs": [],
   "source": [
    "prices = pd.concat([btc['close'], wld['close'], tao['close']], join='outer', axis=1).fillna(np.nan)\n",
    "prices.columns = ['BTC', 'WLD', 'TAO']"
   ]
  },
  {
   "cell_type": "code",
   "execution_count": 6,
   "metadata": {},
   "outputs": [],
   "source": [
    "raw_price_cor = prices.dropna().corr()"
   ]
  },
  {
   "cell_type": "code",
   "execution_count": 7,
   "metadata": {},
   "outputs": [
    {
     "data": {
      "text/plain": [
       "Text(0.5, 1.0, 'Price Correlation')"
      ]
     },
     "execution_count": 7,
     "metadata": {},
     "output_type": "execute_result"
    },
    {
     "data": {
      "image/png": "[encoded data removed]",
      "text/plain": [
       "<Figure size 640x480 with 2 Axes>"
      ]
     },
     "metadata": {},
     "output_type": "display_data"
    }
   ],
   "source": [
    "ax = sns.heatmap(prices.dropna().corr(), annot=True)\n",
    "ax.set_title('Price Correlation')"
   ]
  },
  {
   "cell_type": "code",
   "execution_count": 8,
   "metadata": {},
   "outputs": [],
   "source": [
    "ret = prices.pct_change().dropna()"
   ]
  },
  {
   "cell_type": "code",
   "execution_count": 9,
   "metadata": {},
   "outputs": [
    {
     "data": {
      "text/plain": [
       "Text(0.5, 1.0, 'Return Correlation')"
      ]
     },
     "execution_count": 9,
     "metadata": {},
     "output_type": "execute_result"
    },
    {
     "data": {
      "image/png": "[encoded data removed]",
      "text/plain": [
       "<Figure size 640x480 with 2 Axes>"
      ]
     },
     "metadata": {},
     "output_type": "display_data"
    }
   ],
   "source": [
    "ax = sns.heatmap(ret.dropna().corr(), annot=True)\n",
    "ax.set_title('Return Correlation')"
   ]
  },
  {
   "cell_type": "code",
   "execution_count": null,
   "metadata": {},
   "outputs": [],
   "source": []
  }
 ],
 "metadata": {
  "kernelspec": {
   "display_name": ".venv",
   "language": "python",
   "name": "python3"
  },
  "language_info": {
   "codemirror_mode": {
    "name": "ipython",
    "version": 3
   },
   "file_extension": ".py",
   "mimetype": "text/x-python",
   "name": "python",
   "nbconvert_exporter": "python",
   "pygments_lexer": "ipython3",
   "version": "3.9.7"
  }
 },
 "nbformat": 4,
 "nbformat_minor": 2
}
